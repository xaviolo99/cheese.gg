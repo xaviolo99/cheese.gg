{
 "cells": [
  {
   "cell_type": "markdown",
   "metadata": {},
   "source": [
    "### LOAD THE DATA"
   ]
  },
  {
   "cell_type": "code",
   "execution_count": 1,
   "metadata": {},
   "outputs": [
    {
     "data": {
      "text/html": [
       "<div>\n",
       "<style scoped>\n",
       "    .dataframe tbody tr th:only-of-type {\n",
       "        vertical-align: middle;\n",
       "    }\n",
       "\n",
       "    .dataframe tbody tr th {\n",
       "        vertical-align: top;\n",
       "    }\n",
       "\n",
       "    .dataframe thead th {\n",
       "        text-align: right;\n",
       "    }\n",
       "</style>\n",
       "<table border=\"1\" class=\"dataframe\">\n",
       "  <thead>\n",
       "    <tr style=\"text-align: right;\">\n",
       "      <th></th>\n",
       "      <th>ENEMY</th>\n",
       "      <th>ROWID</th>\n",
       "      <th>CH1Id</th>\n",
       "      <th>CH1keyRune</th>\n",
       "      <th>CH1spell1</th>\n",
       "      <th>CH1spell2</th>\n",
       "      <th>CH2Id</th>\n",
       "      <th>CH2JNGkeyRune</th>\n",
       "      <th>CH2spell1</th>\n",
       "      <th>CH2spell2</th>\n",
       "      <th>...</th>\n",
       "      <th>CH3spell1</th>\n",
       "      <th>CH3spell2</th>\n",
       "      <th>CH4champId</th>\n",
       "      <th>CH4keyRune</th>\n",
       "      <th>CH4spell1</th>\n",
       "      <th>CH4spell2</th>\n",
       "      <th>CH5champId</th>\n",
       "      <th>CH5keyRune</th>\n",
       "      <th>CH5spell1</th>\n",
       "      <th>CH5spell2</th>\n",
       "    </tr>\n",
       "  </thead>\n",
       "  <tbody>\n",
       "    <tr>\n",
       "      <th>0</th>\n",
       "      <td>0</td>\n",
       "      <td>3</td>\n",
       "      <td>25</td>\n",
       "      <td>4</td>\n",
       "      <td>4</td>\n",
       "      <td>9</td>\n",
       "      <td>26</td>\n",
       "      <td>11</td>\n",
       "      <td>4</td>\n",
       "      <td>0</td>\n",
       "      <td>...</td>\n",
       "      <td>4</td>\n",
       "      <td>5</td>\n",
       "      <td>28</td>\n",
       "      <td>13</td>\n",
       "      <td>4</td>\n",
       "      <td>0</td>\n",
       "      <td>23</td>\n",
       "      <td>4</td>\n",
       "      <td>4</td>\n",
       "      <td>0</td>\n",
       "    </tr>\n",
       "    <tr>\n",
       "      <th>1</th>\n",
       "      <td>0</td>\n",
       "      <td>4</td>\n",
       "      <td>26</td>\n",
       "      <td>11</td>\n",
       "      <td>4</td>\n",
       "      <td>7</td>\n",
       "      <td>22</td>\n",
       "      <td>13</td>\n",
       "      <td>4</td>\n",
       "      <td>0</td>\n",
       "      <td>...</td>\n",
       "      <td>4</td>\n",
       "      <td>2</td>\n",
       "      <td>118</td>\n",
       "      <td>1</td>\n",
       "      <td>4</td>\n",
       "      <td>9</td>\n",
       "      <td>62</td>\n",
       "      <td>14</td>\n",
       "      <td>4</td>\n",
       "      <td>5</td>\n",
       "    </tr>\n",
       "    <tr>\n",
       "      <th>2</th>\n",
       "      <td>0</td>\n",
       "      <td>8</td>\n",
       "      <td>68</td>\n",
       "      <td>8</td>\n",
       "      <td>4</td>\n",
       "      <td>5</td>\n",
       "      <td>121</td>\n",
       "      <td>3</td>\n",
       "      <td>4</td>\n",
       "      <td>7</td>\n",
       "      <td>...</td>\n",
       "      <td>4</td>\n",
       "      <td>5</td>\n",
       "      <td>32</td>\n",
       "      <td>13</td>\n",
       "      <td>4</td>\n",
       "      <td>5</td>\n",
       "      <td>54</td>\n",
       "      <td>4</td>\n",
       "      <td>4</td>\n",
       "      <td>9</td>\n",
       "    </tr>\n",
       "    <tr>\n",
       "      <th>3</th>\n",
       "      <td>0</td>\n",
       "      <td>12</td>\n",
       "      <td>29</td>\n",
       "      <td>4</td>\n",
       "      <td>4</td>\n",
       "      <td>9</td>\n",
       "      <td>102</td>\n",
       "      <td>3</td>\n",
       "      <td>4</td>\n",
       "      <td>7</td>\n",
       "      <td>...</td>\n",
       "      <td>4</td>\n",
       "      <td>5</td>\n",
       "      <td>137</td>\n",
       "      <td>8</td>\n",
       "      <td>4</td>\n",
       "      <td>2</td>\n",
       "      <td>81</td>\n",
       "      <td>2</td>\n",
       "      <td>4</td>\n",
       "      <td>0</td>\n",
       "    </tr>\n",
       "    <tr>\n",
       "      <th>4</th>\n",
       "      <td>0</td>\n",
       "      <td>16</td>\n",
       "      <td>71</td>\n",
       "      <td>2</td>\n",
       "      <td>4</td>\n",
       "      <td>7</td>\n",
       "      <td>111</td>\n",
       "      <td>15</td>\n",
       "      <td>4</td>\n",
       "      <td>5</td>\n",
       "      <td>...</td>\n",
       "      <td>4</td>\n",
       "      <td>5</td>\n",
       "      <td>60</td>\n",
       "      <td>4</td>\n",
       "      <td>4</td>\n",
       "      <td>5</td>\n",
       "      <td>129</td>\n",
       "      <td>0</td>\n",
       "      <td>4</td>\n",
       "      <td>9</td>\n",
       "    </tr>\n",
       "  </tbody>\n",
       "</table>\n",
       "<p>5 rows × 22 columns</p>\n",
       "</div>"
      ],
      "text/plain": [
       "   ENEMY  ROWID  CH1Id  CH1keyRune  CH1spell1  CH1spell2  CH2Id  \\\n",
       "0      0      3     25           4          4          9     26   \n",
       "1      0      4     26          11          4          7     22   \n",
       "2      0      8     68           8          4          5    121   \n",
       "3      0     12     29           4          4          9    102   \n",
       "4      0     16     71           2          4          7    111   \n",
       "\n",
       "   CH2JNGkeyRune  CH2spell1  CH2spell2    ...      CH3spell1  CH3spell2  \\\n",
       "0             11          4          0    ...              4          5   \n",
       "1             13          4          0    ...              4          2   \n",
       "2              3          4          7    ...              4          5   \n",
       "3              3          4          7    ...              4          5   \n",
       "4             15          4          5    ...              4          5   \n",
       "\n",
       "   CH4champId  CH4keyRune  CH4spell1  CH4spell2  CH5champId  CH5keyRune  \\\n",
       "0          28          13          4          0          23           4   \n",
       "1         118           1          4          9          62          14   \n",
       "2          32          13          4          5          54           4   \n",
       "3         137           8          4          2          81           2   \n",
       "4          60           4          4          5         129           0   \n",
       "\n",
       "   CH5spell1  CH5spell2  \n",
       "0          4          0  \n",
       "1          4          5  \n",
       "2          4          9  \n",
       "3          4          0  \n",
       "4          4          9  \n",
       "\n",
       "[5 rows x 22 columns]"
      ]
     },
     "metadata": {},
     "output_type": "display_data"
    },
    {
     "name": "stdout",
     "output_type": "stream",
     "text": [
      "178095\n"
     ]
    }
   ],
   "source": [
    "import numpy as np\n",
    "import pandas as pd\n",
    "\n",
    "table = pd.read_csv(\"positionDataIncorrect.csv\", low_memory=False)\n",
    "display(table.head())\n",
    "print(len(table))"
   ]
  },
  {
   "cell_type": "markdown",
   "metadata": {},
   "source": [
    "### Prepare the data extracting x"
   ]
  },
  {
   "cell_type": "code",
   "execution_count": 2,
   "metadata": {},
   "outputs": [
    {
     "name": "stdout",
     "output_type": "stream",
     "text": [
      "Execution time: 0.05 seconds\n"
     ]
    }
   ],
   "source": [
    "import time\n",
    "import torch\n",
    "\n",
    "b = time.time()\n",
    "batches = 100\n",
    "bs = len(table)//batches\n",
    "\n",
    "array = table.values[:len(table)]\n",
    "i = np.arange(len(table))\n",
    "\n",
    "misc = array[np.ix_(i,range(2))]\n",
    "\n",
    "x = array[np.ix_(i,range(2, 22))]\n",
    "\n",
    "ext = bs-(len(x)%bs)\n",
    "if ext > 0:\n",
    "    batches += 1\n",
    "\n",
    "x = np.concatenate((x, x[:ext]))\n",
    "\n",
    "x = torch.from_numpy(x)\n",
    "\n",
    "print(\"Execution time:\", round(time.time()-b, 2), \"seconds\")"
   ]
  },
  {
   "cell_type": "markdown",
   "metadata": {},
   "source": [
    "### COPY THE MODEL"
   ]
  },
  {
   "cell_type": "code",
   "execution_count": 3,
   "metadata": {},
   "outputs": [
    {
     "name": "stderr",
     "output_type": "stream",
     "text": [
      "D:\\ANACONDA\\lib\\site-packages\\torch\\cuda\\__init__.py:116: UserWarning: \n",
      "    Found GPU0 GeForce GTX 770 which is of cuda capability 3.0.\n",
      "    PyTorch no longer supports this GPU because it is too old.\n",
      "    \n",
      "  warnings.warn(old_gpu_warn % (d, name, major, capability[1]))\n"
     ]
    },
    {
     "data": {
      "text/plain": [
       "Net(\n",
       "  (idC): Linear(in_features=141, out_features=70, bias=True)\n",
       "  (runeC): Linear(in_features=17, out_features=14, bias=True)\n",
       "  (spellsC): Linear(in_features=10, out_features=14, bias=True)\n",
       "  (c): Linear(in_features=98, out_features=100, bias=True)\n",
       "  (fc2): Linear(in_features=500, out_features=450, bias=True)\n",
       "  (fc3): Linear(in_features=450, out_features=25, bias=True)\n",
       ")"
      ]
     },
     "execution_count": 3,
     "metadata": {},
     "output_type": "execute_result"
    }
   ],
   "source": [
    "import torch.nn as nn\n",
    "import torch.nn.functional as F\n",
    "import torch.utils.data\n",
    "\n",
    "device = torch.device(\"cuda:0\")\n",
    "\n",
    "class Net(nn.Module):\n",
    "    def __init__(self):\n",
    "        super(Net, self).__init__()\n",
    "        \n",
    "        self.i = torch.arange(5).view(1, 5).to(device)\n",
    "        \n",
    "        self.id = torch.zeros(5, bs, 141).to(device)\n",
    "        self.rune = torch.zeros(5, bs, 17).to(device)\n",
    "        self.spells = torch.zeros(5, bs, 10).to(device)\n",
    "        \n",
    "        self.idC = nn.Linear(141, 70) #50 best\n",
    "        self.runeC = nn.Linear(17, 14) #9 best\n",
    "        self.spellsC = nn.Linear(10, 14)#10 best\n",
    "        \n",
    "        self.c = nn.Linear(70+14+14, 100) #40 best\n",
    "        \n",
    "        self.fc2 = nn.Linear((100)*5, 450) #40, 200 best\n",
    "        self.fc3 = nn.Linear(450, 25) #200 best\n",
    "        #self.fc4 = nn.Linear(400, 25)\n",
    "\n",
    "    def forward(self, x):\n",
    "        \n",
    "        self.id.zero_()\n",
    "        self.rune.zero_()\n",
    "        self.spells.zero_()\n",
    "        \n",
    "        k1 = x[:, self.i*4].long().transpose(0, 2).view(5, bs, 1)\n",
    "        k2 = x[:, self.i*4+1].long().transpose(0, 2).view(5, bs, 1)\n",
    "        k3 = x[:, self.i*4+2].long().transpose(0, 2).view(5, bs, 1)\n",
    "        k4 = x[:, self.i*4+3].long().transpose(0, 2).view(5, bs, 1)\n",
    "        \n",
    "        self.id.scatter_(2, k1, 1)\n",
    "        self.rune.scatter_(2, k2, 1)\n",
    "        self.spells.scatter_(2, k3, 1)\n",
    "        self.spells.scatter_(2, k4, 1)\n",
    "        \n",
    "        x = torch.cat((\n",
    "            F.relu(self.c(torch.cat((\n",
    "                F.relu(self.idC(self.id[0])), \n",
    "                F.relu(self.runeC(self.rune[0])), \n",
    "                F.relu(self.spellsC(self.spells[0]))\n",
    "                ), dim=1))),\n",
    "            F.relu(self.c(torch.cat((\n",
    "                F.relu(self.idC(self.id[1])), \n",
    "                F.relu(self.runeC(self.rune[1])), \n",
    "                F.relu(self.spellsC(self.spells[1]))\n",
    "            ), dim=1))),\n",
    "            F.relu(self.c(torch.cat((\n",
    "                F.relu(self.idC(self.id[2])), \n",
    "                F.relu(self.runeC(self.rune[2])), \n",
    "                F.relu(self.spellsC(self.spells[2]))\n",
    "            ), dim=1))),\n",
    "            F.relu(self.c(torch.cat((\n",
    "                F.relu(self.idC(self.id[3])), \n",
    "                F.relu(self.runeC(self.rune[3])), \n",
    "                F.relu(self.spellsC(self.spells[3]))\n",
    "            ), dim=1))),\n",
    "            F.relu(self.c(torch.cat((\n",
    "                F.relu(self.idC(self.id[4])), \n",
    "                F.relu(self.runeC(self.rune[4])), \n",
    "                F.relu(self.spellsC(self.spells[4]))\n",
    "            ), dim=1)))\n",
    "        ), dim=1)\n",
    "        \n",
    "        x = F.relu(self.fc2(x))\n",
    "        x = F.sigmoid(self.fc3(x))\n",
    "\n",
    "        return x\n",
    "    \n",
    "net = Net()\n",
    "net.to(device)\n",
    "net.train(False)"
   ]
  },
  {
   "cell_type": "markdown",
   "metadata": {},
   "source": [
    "### IMPORT THE PARAMETERS"
   ]
  },
  {
   "cell_type": "code",
   "execution_count": 4,
   "metadata": {},
   "outputs": [],
   "source": [
    "net.load_state_dict(torch.load('92.55.pth'))"
   ]
  },
  {
   "cell_type": "markdown",
   "metadata": {},
   "source": [
    "### Classify the teams"
   ]
  },
  {
   "cell_type": "code",
   "execution_count": 5,
   "metadata": {},
   "outputs": [
    {
     "name": "stderr",
     "output_type": "stream",
     "text": [
      "D:\\ANACONDA\\lib\\site-packages\\torch\\nn\\functional.py:1025: UserWarning: nn.functional.sigmoid is deprecated. Use torch.sigmoid instead.\n",
      "  warnings.warn(\"nn.functional.sigmoid is deprecated. Use torch.sigmoid instead.\")\n"
     ]
    },
    {
     "name": "stdout",
     "output_type": "stream",
     "text": [
      "Evaluation Finished!\n"
     ]
    }
   ],
   "source": [
    "y = torch.tensor([]).to(device)\n",
    "\n",
    "with torch.no_grad():\n",
    "    # process in big batches\n",
    "    for i in range(batches):\n",
    "        inputs = x[bs*i:bs*(i+1)].to(device)#.view(1, -1)\n",
    "        outputs = net(inputs)\n",
    "        y = torch.cat((y, outputs))\n",
    "\n",
    "x = x[:len(x)-ext]\n",
    "y = y[:len(y)-ext]\n",
    "\n",
    "y = y.cpu().numpy()\n",
    "\n",
    "\n",
    "print('Evaluation Finished!')"
   ]
  },
  {
   "cell_type": "markdown",
   "metadata": {},
   "source": [
    "### Present the data in the CSV way and see if there are collisions"
   ]
  },
  {
   "cell_type": "code",
   "execution_count": 6,
   "metadata": {},
   "outputs": [
    {
     "name": "stdout",
     "output_type": "stream",
     "text": [
      "Free of collisions? True\n",
      "tensor([[51,  4,  4,  5],\n",
      "        [38, 13,  4,  1],\n",
      "        [91,  0,  4,  0],\n",
      "        [45,  3,  4,  7],\n",
      "        [35,  6,  4,  9]])\n",
      "[2 4 0 3 1]\n"
     ]
    }
   ],
   "source": [
    "# separate the data per champs and extract which is the top, jng, mid, adc, supp\n",
    "pos = y.reshape(-1, 5, 5).argmax(1)\n",
    "\n",
    "# exhange elements with indices to see instead of [ who is assigned (top) ] , [ which role is assigned to (champion 1) ]\n",
    "pos = np.argsort(pos, axis=1)\n",
    "\n",
    "# check there were no collisions\n",
    "exp = np.arange(5)\n",
    "check = np.sort(pos, axis=1)\n",
    "print(\"Free of collisions? \"+str((check == exp).all()))\n",
    "\n",
    "# this code will allow you to see how many and where the colllisions happened (ONLY IF THERE WERE COLLISIONS)\n",
    "\"\"\"\n",
    "count = 0\n",
    "for e in range(len(pos)):\n",
    "    if not (check[e] == exp).all():\n",
    "        count += 1\n",
    "print(str(count)+\"/\"+str(len(y)))\n",
    "\"\"\"\n",
    "\n",
    "print(x.reshape(-1, 5, 4)[100000])\n",
    "print(pos[100000])"
   ]
  },
  {
   "cell_type": "markdown",
   "metadata": {},
   "source": [
    "### Check randomly and empirically the correctness"
   ]
  },
  {
   "cell_type": "code",
   "execution_count": 12,
   "metadata": {},
   "outputs": [
    {
     "name": "stdout",
     "output_type": "stream",
     "text": [
      "TOP: Gangplank (Grasp of the Undying, Flash, Teleport)\n",
      "JNG: Nidalee (Dark Harvest, Flash, Smite)\n",
      "MID: Ryze (Phase Rush, Flash, Cleanse)\n",
      "ADC: Ezreal (Kleptomancy, Flash, Teleport)\n",
      "SUP: Karma (Summon Aery, Flash, Ignite)\n"
     ]
    }
   ],
   "source": [
    "num_to_alpha = np.array(['Aatrox', 'Ahri', 'Akali', 'Alistar', 'Amumu', 'Anivia', 'Annie', 'Ashe', 'Aurelion Sol', 'Azir', 'Bard', 'Blitzcrank', 'Brand', 'Braum', 'Caitlyn', 'Camille', 'Cassiopeia',\n",
    "                \"Cho'Gath\", 'Corki', 'Darius', 'Diana', 'Draven', 'Dr. Mundo', 'Ekko', 'Elise', 'Evelynn', 'Ezreal', 'Fiddlesticks', 'Fiora', 'Fizz', 'Galio', 'Gangplank', 'Garen', 'Gnar',\n",
    "                'Gragas', 'Graves', 'Hecarim', 'Heimerdinger', 'Illaoi', 'Irelia', 'Ivern', 'Janna', 'Jarvan IV', 'Jax', 'Jayce', 'Jhin', 'Jinx', \"Kai'Sa\", 'Kalista', 'Karma', 'Karthus', 'Kassadin',\n",
    "                'Katarina', 'Kayle', 'Kayn', 'Kennen', \"Kha'Zix\", 'Kindred', 'Kled', \"Kog'Maw\", 'LeBlanc', 'Lee Sin', 'Leona', 'Lissandra', 'Lucian', 'Lulu', 'Lux', 'Malphite', 'Malzahar',\n",
    "                'Maokai', 'Master Yi', 'Miss Fortune', 'Wukong', 'Mordekaiser', 'Morgana', 'Nami', 'Nasus', 'Nautilus', 'Nidalee', 'Nocturne', 'Nunu', 'Olaf', 'Orianna', 'Ornn', 'Pantheon',\n",
    "                'Poppy', 'Pyke', 'Quinn', 'Rakan', 'Rammus', \"Rek'Sai\", 'Renekton', 'Rengar', 'Riven', 'Rumble', 'Ryze', 'Sejuani', 'Shaco', 'Shen', 'Shyvana', 'Singed', 'Sion', 'Sivir', 'Skarner',\n",
    "                'Sona', 'Soraka', 'Swain', 'Syndra', 'Tahm Kench', 'Taliyah', 'Talon', 'Taric', 'Teemo', 'Thresh', 'Tristana', 'Trundle', 'Tryndamere', 'Twisted Fate', 'Twitch', 'Udyr', 'Urgot',\n",
    "                'Varus', 'Vayne', 'Veigar', \"Vel'Koz\", 'Vi', 'Viktor', 'Vladimir', 'Volibear', 'Warwick', 'Xayah', 'Xerath', 'Xin Zhao', 'Yasuo', 'Yorick', 'Zac', 'Zed', 'Ziggs', 'Zilean', 'Zoe', 'Zyra'])\n",
    "spell_to_alpha = ['Teleport', 'Exhaust', 'Barrier', 'Clarity', 'Flash', 'Ignite', 'Ghost', 'Heal', 'Cleanse', 'Smite']\n",
    "key_to_alpha = ['Press the Attack', 'Lethal Tempo', 'Conqueror', 'Fleet Footwork', 'Electrocute', 'Predator', 'Dark Harvest', 'Summon Aery', 'Arcane Comet', 'Phase Rush',\n",
    "                'Glacial Augment', 'Kleptomancy', 'Unsealed Spellbook', 'Grasp of the Undying', 'Aftershock', 'Guardian', 'Hail of Blades']\n",
    "pos_to_alpha = np.array(['TOP', 'JNG', 'MID', 'ADC', 'SUP'])\n",
    "\n",
    "ind = np.random.randint(0, len(pos))\n",
    "\n",
    "x_t = x.reshape(-1, 5, 4)\n",
    "\n",
    "#for i in range(5):\n",
    "#    print(num_to_alpha[x_t[ind][i][0]], pos_to_alpha[pos[ind][i]])\n",
    "\n",
    "for i in range(5):\n",
    "    cac = x_t[ind][np.where(pos[ind] == i)][0]\n",
    "    print(pos_to_alpha[i]+\": \"+num_to_alpha[cac[0]]+\" (\"+key_to_alpha[cac[1]]\n",
    "          +\", \"+spell_to_alpha[cac[2]]+\", \"+spell_to_alpha[cac[3]]+\")\")"
   ]
  },
  {
   "cell_type": "markdown",
   "metadata": {},
   "source": [
    "### Save to the CSV in the specified format"
   ]
  },
  {
   "cell_type": "code",
   "execution_count": 14,
   "metadata": {},
   "outputs": [],
   "source": [
    "# i.e. ENEMY, ROWID, CHAMP 1 POS, CHAMP 2 POS, CHAMP 3 POS, CHAMP 4 POS, CHAMP 5 POS\n",
    "\n",
    "to_csv = np.concatenate((misc, pos), 1)\n",
    "pd.DataFrame(to_csv).to_csv(\"correctedData.csv\", index=False, \n",
    "                            header=[\"ENEMY\", \"ROWID\", \"CH1Pos\", \"CH2Pos\", \"CH3Pos\", \"CH4Pos\", \"CH5Pos\"])"
   ]
  },
  {
   "cell_type": "code",
   "execution_count": null,
   "metadata": {},
   "outputs": [],
   "source": []
  }
 ],
 "metadata": {
  "kernelspec": {
   "display_name": "Python 3",
   "language": "python",
   "name": "python3"
  },
  "language_info": {
   "codemirror_mode": {
    "name": "ipython",
    "version": 3
   },
   "file_extension": ".py",
   "mimetype": "text/x-python",
   "name": "python",
   "nbconvert_exporter": "python",
   "pygments_lexer": "ipython3",
   "version": "3.6.5"
  }
 },
 "nbformat": 4,
 "nbformat_minor": 2
}
